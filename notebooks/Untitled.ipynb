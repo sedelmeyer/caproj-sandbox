{
 "cells": [
  {
   "cell_type": "code",
   "execution_count": 1,
   "metadata": {},
   "outputs": [],
   "source": [
    "%load_ext autoreload\n",
    "\n",
    "%autoreload 1\n",
    "\n",
    "%aimport caproj.data\n",
    "%aimport caproj.logger\n",
    "\n",
    "import sys\n",
    "from unittest import mock\n",
    "import logging\n",
    "\n",
    "import numpy as np\n",
    "import pandas as pd\n",
    "\n",
    "# import caproj\n",
    "\n",
    "# import logging\n",
    "# import caproj.logger\n",
    "\n",
    "# from caproj.data.base import BaseData\n",
    "# from caproj.visualizations import plot_barplot\n",
    "\n",
    "import matplotlib.pyplot as plt"
   ]
  },
  {
   "cell_type": "code",
   "execution_count": 2,
   "metadata": {},
   "outputs": [
    {
     "name": "stdout",
     "output_type": "stream",
     "text": [
      "INFO: caproj.logger: logging configured using ../logging.json\n"
     ]
    }
   ],
   "source": [
    "caproj.logger.start_logging(default_path='../logging.json')"
   ]
  },
  {
   "cell_type": "code",
   "execution_count": 3,
   "metadata": {},
   "outputs": [],
   "source": [
    "file_path = '../data/raw/Capital_Projects.csv'"
   ]
  },
  {
   "cell_type": "code",
   "execution_count": 4,
   "metadata": {},
   "outputs": [
    {
     "name": "stdout",
     "output_type": "stream",
     "text": [
      "INFO: caproj.data.base: Run function from_file\n",
      "INFO: caproj.data.base: Invoke BaseData class and read csv into pandas.DataFrame\n",
      "INFO: caproj.data.base: Run with args: (<class 'caproj.data.base.BaseData'>,), and kwargs: {'filename': '../data/raw/Capital_Projects.csv', 'copy_input': True}\n",
      "INFO: BaseData: Number of project change records: 2259\n",
      "INFO: BaseData: Number of unique projects in dataset: 378\n"
     ]
    }
   ],
   "source": [
    "Base = caproj.data.BaseData.from_file(filename=file_path, copy_input=True)\n",
    "# Base.log_record_count()"
   ]
  },
  {
   "cell_type": "code",
   "execution_count": 10,
   "metadata": {
    "scrolled": false
   },
   "outputs": [
    {
     "name": "stdout",
     "output_type": "stream",
     "text": [
      "<class 'pandas.core.frame.DataFrame'>\n",
      "RangeIndex: 2259 entries, 0 to 2258\n",
      "Data columns (total 16 columns):\n",
      " #   Column                   Non-Null Count  Dtype  \n",
      "---  ------                   --------------  -----  \n",
      " 0   Date Reported As Of      2259 non-null   object \n",
      " 1   PID                      2259 non-null   int64  \n",
      " 2   Project Name             2259 non-null   object \n",
      " 3   Description              2150 non-null   object \n",
      " 4   Category                 2259 non-null   object \n",
      " 5   Borough                  1634 non-null   object \n",
      " 6   Managing Agency          2259 non-null   object \n",
      " 7   Client Agency            1644 non-null   object \n",
      " 8   Current Phase            2154 non-null   object \n",
      " 9   Design Start             2095 non-null   object \n",
      " 10  Budget Forecast          2153 non-null   float64\n",
      " 11  Latest Budget Changes    1881 non-null   float64\n",
      " 12  Total Budget Changes     2194 non-null   float64\n",
      " 13  Forecast Completion      2137 non-null   object \n",
      " 14  Latest Schedule Changes  1866 non-null   float64\n",
      " 15  Total Schedule Changes   2186 non-null   float64\n",
      "dtypes: float64(5), int64(1), object(10)\n",
      "memory usage: 282.5+ KB\n"
     ]
    }
   ],
   "source": [
    "Base.df.info()"
   ]
  },
  {
   "cell_type": "code",
   "execution_count": 6,
   "metadata": {},
   "outputs": [
    {
     "name": "stdout",
     "output_type": "stream",
     "text": [
      "INFO    : BaseData: Number of project change records: 2259\n",
      "INFO    : BaseData: Number of unique projects in dataset: 378\n"
     ]
    }
   ],
   "source": [
    "Base.log_record_count()"
   ]
  },
  {
   "cell_type": "code",
   "execution_count": 7,
   "metadata": {},
   "outputs": [
    {
     "name": "stdout",
     "output_type": "stream",
     "text": [
      "INFO    : caproj.data.base: Run function lint_colnames\n",
      "INFO    : caproj.data.base: Normalize column name format using underscore ('_') as a separator\n",
      "INFO    : caproj.data.base: Run with args: (<caproj.data.base.BaseData object at 0x7efe4c1d8410>,), and kwargs: {}\n",
      "INFO    : BaseData: Column names changed (original, new): [('Date Reported As Of', 'Date_Reported_As_Of'), ('Project Name', 'Project_Name'), ('Managing Agency', 'Managing_Agency'), ('Client Agency', 'Client_Agency'), ('Current Phase', 'Current_Phase'), ('Design Start', 'Design_Start'), ('Budget Forecast', 'Budget_Forecast'), ('Latest Budget Changes', 'Latest_Budget_Changes'), ('Total Budget Changes', 'Total_Budget_Changes'), ('Forecast Completion', 'Forecast_Completion'), ('Latest Schedule Changes', 'Latest_Schedule_Changes'), ('Total Schedule Changes', 'Total_Schedule_Changes')]\n"
     ]
    }
   ],
   "source": [
    "Base.lint_colnames()"
   ]
  },
  {
   "cell_type": "code",
   "execution_count": 13,
   "metadata": {},
   "outputs": [],
   "source": [
    "map_dict = {'Latest_Schedule_Changes': 'Latest_Schedule_Changes'.upper()}"
   ]
  },
  {
   "cell_type": "code",
   "execution_count": 14,
   "metadata": {},
   "outputs": [
    {
     "data": {
      "text/plain": [
       "{'Latest_Schedule_Changes': 'LATEST_SCHEDULE_CHANGES'}"
      ]
     },
     "execution_count": 14,
     "metadata": {},
     "output_type": "execute_result"
    }
   ],
   "source": [
    "map_dict"
   ]
  },
  {
   "cell_type": "code",
   "execution_count": 15,
   "metadata": {},
   "outputs": [
    {
     "name": "stdout",
     "output_type": "stream",
     "text": [
      "INFO    : caproj.data.base: Run function rename_columns\n",
      "INFO    : caproj.data.base: Map existing column names to new names based on input dictionary\n",
      "INFO    : caproj.data.base: Run with args: (<caproj.data.base.BaseData object at 0x7ff138fbb690>,), and kwargs: {'map_dict': {'Latest_Schedule_Changes': 'LATEST_SCHEDULE_CHANGES'}}\n",
      "INFO    : BaseData       : Column names mapped using direct map_dict input option\n"
     ]
    }
   ],
   "source": [
    "Base.rename_columns(map_dict=map_dict)"
   ]
  },
  {
   "cell_type": "code",
   "execution_count": 16,
   "metadata": {},
   "outputs": [],
   "source": [
    "map_dict = False\n",
    "json_path = 1"
   ]
  },
  {
   "cell_type": "code",
   "execution_count": 17,
   "metadata": {},
   "outputs": [],
   "source": [
    "def test_dict_cond(map_dict, json_path):\n",
    "    if map_dict:\n",
    "        logging.info('Column names mapped using direct map_dict input option')\n",
    "    elif json_path:\n",
    "        map_dict = False\n",
    "        if map_dict:\n",
    "            logging.info('Column names mapped using {}'.format(map_dict))\n",
    "        else:\n",
    "            logging.info('JSON failed to load map_dict, no column names changed')\n",
    "            return\n",
    "    else:\n",
    "        logging.warning('cheese')\n",
    "        return\n",
    "\n",
    "    print('end')"
   ]
  },
  {
   "cell_type": "code",
   "execution_count": 18,
   "metadata": {},
   "outputs": [
    {
     "name": "stdout",
     "output_type": "stream",
     "text": [
      "INFO    : root           : JSON failed to load map_dict, no column names changed\n"
     ]
    }
   ],
   "source": [
    "obj = test_dict_cond(map_dict, json_path)"
   ]
  },
  {
   "cell_type": "code",
   "execution_count": 19,
   "metadata": {},
   "outputs": [
    {
     "name": "stdout",
     "output_type": "stream",
     "text": [
      "INFO    : BaseData       : Number of project change records: 0\n",
      "INFO    : BaseData       : Number of unique projects in dataset: 0\n"
     ]
    }
   ],
   "source": [
    "Base = BaseData(pd.DataFrame(columns=['PID']), copy_input=False)"
   ]
  },
  {
   "cell_type": "code",
   "execution_count": 65,
   "metadata": {},
   "outputs": [
    {
     "data": {
      "text/plain": [
       "Timedelta('-18 days +00:00:00')"
      ]
     },
     "execution_count": 65,
     "metadata": {},
     "output_type": "execute_result"
    }
   ],
   "source": [
    "pd.to_timedelta(pd.to_datetime('2000-10-01') - pd.to_datetime('2000-10-19') )"
   ]
  },
  {
   "cell_type": "code",
   "execution_count": 7,
   "metadata": {},
   "outputs": [
    {
     "data": {
      "text/plain": [
       "pandas._libs.tslibs.timestamps.Timestamp"
      ]
     },
     "execution_count": 7,
     "metadata": {},
     "output_type": "execute_result"
    }
   ],
   "source": [
    "type(pd.to_datetime('2000-10-01'))"
   ]
  },
  {
   "cell_type": "code",
   "execution_count": 3,
   "metadata": {},
   "outputs": [
    {
     "name": "stdout",
     "output_type": "stream",
     "text": [
      "INFO    : BaseData: Number of project change records: 3\n",
      "INFO    : BaseData: Number of unique projects in dataset: 2\n"
     ]
    }
   ],
   "source": [
    "Base = caproj.data.BaseData(\n",
    "    pd.DataFrame().from_dict({'a': ['5', '3', '2'], 'b': [1, '5.22', 'l'], 'PID': [1, np.nan, \"1945-10-05\"]}),\n",
    "    False\n",
    ")"
   ]
  },
  {
   "cell_type": "code",
   "execution_count": 4,
   "metadata": {},
   "outputs": [],
   "source": [
    "map_dict = {'a': 'integer', 'b': 'integer', \"PID\": \"datetime\"}"
   ]
  },
  {
   "cell_type": "code",
   "execution_count": 4,
   "metadata": {},
   "outputs": [],
   "source": [
    "map_dict = {'a': 'string'}"
   ]
  },
  {
   "cell_type": "code",
   "execution_count": 10,
   "metadata": {},
   "outputs": [],
   "source": [
    "series_ignore = Base.df['PID'].copy().astype(str)"
   ]
  },
  {
   "cell_type": "code",
   "execution_count": 24,
   "metadata": {},
   "outputs": [],
   "source": [
    "series_ignore = pd.to_datetime(Base.df['PID'], errors='ignore')"
   ]
  },
  {
   "cell_type": "code",
   "execution_count": 21,
   "metadata": {},
   "outputs": [],
   "source": [
    "series_coerce = pd.to_datetime(Base.df['PID'].astype(str), errors='coerce')"
   ]
  },
  {
   "cell_type": "code",
   "execution_count": 5,
   "metadata": {},
   "outputs": [],
   "source": [
    "series_ignore, series_coerce, dict_errors = Base._to_datetime('PID')"
   ]
  },
  {
   "cell_type": "code",
   "execution_count": 8,
   "metadata": {},
   "outputs": [
    {
     "data": {
      "text/plain": [
       "False"
      ]
     },
     "execution_count": 8,
     "metadata": {},
     "output_type": "execute_result"
    }
   ],
   "source": [
    "True in [False, False, False]"
   ]
  },
  {
   "cell_type": "code",
   "execution_count": 10,
   "metadata": {},
   "outputs": [
    {
     "name": "stdout",
     "output_type": "stream",
     "text": [
      "test\n"
     ]
    }
   ],
   "source": [
    "print('test') if type('cheese') != list else 'cheese'"
   ]
  },
  {
   "cell_type": "code",
   "execution_count": 8,
   "metadata": {},
   "outputs": [
    {
     "data": {
      "text/plain": [
       "True"
      ]
     },
     "execution_count": 8,
     "metadata": {},
     "output_type": "execute_result"
    }
   ],
   "source": [
    "series_coerce[2] == series_ignore[2]"
   ]
  },
  {
   "cell_type": "code",
   "execution_count": 12,
   "metadata": {},
   "outputs": [],
   "source": [
    "colvalues_dict = {\n",
    "    \"a\": [1, 2, 3],\n",
    "    \"b\": [1, 2, np.nan],\n",
    "    \"PID\": [\"test\", \"test\", \"test\"],\n",
    "}\n",
    "id_col = \"unique_id\"\n",
    "df = pd.DataFrame().from_dict(colvalues_dict)"
   ]
  },
  {
   "cell_type": "code",
   "execution_count": 16,
   "metadata": {},
   "outputs": [
    {
     "data": {
      "text/plain": [
       "0    1.0\n",
       "1    2.0\n",
       "2    nan\n",
       "Name: b, dtype: object"
      ]
     },
     "execution_count": 16,
     "metadata": {},
     "output_type": "execute_result"
    }
   ],
   "source": [
    "df['b'].map(str)"
   ]
  },
  {
   "cell_type": "code",
   "execution_count": 10,
   "metadata": {},
   "outputs": [
    {
     "data": {
      "text/plain": [
       "0      1\n",
       "1    NaN\n",
       "Name: PID, dtype: object"
      ]
     },
     "execution_count": 10,
     "metadata": {},
     "output_type": "execute_result"
    }
   ],
   "source": [
    "series_ignore[series_coerce.isnull()]"
   ]
  },
  {
   "cell_type": "code",
   "execution_count": 11,
   "metadata": {},
   "outputs": [
    {
     "data": {
      "text/plain": [
       "{0: 1}"
      ]
     },
     "execution_count": 11,
     "metadata": {},
     "output_type": "execute_result"
    }
   ],
   "source": [
    "dict_errors"
   ]
  },
  {
   "cell_type": "code",
   "execution_count": 17,
   "metadata": {},
   "outputs": [
    {
     "data": {
      "text/plain": [
       "'nan'"
      ]
     },
     "execution_count": 17,
     "metadata": {},
     "output_type": "execute_result"
    }
   ],
   "source": [
    "str(np.nan)"
   ]
  },
  {
   "cell_type": "code",
   "execution_count": 23,
   "metadata": {},
   "outputs": [
    {
     "data": {
      "text/plain": [
       "True"
      ]
     },
     "execution_count": 23,
     "metadata": {},
     "output_type": "execute_result"
    }
   ],
   "source": [
    "import math\n",
    "\n",
    "math.isnan(dict_errors[1])"
   ]
  },
  {
   "cell_type": "code",
   "execution_count": 22,
   "metadata": {},
   "outputs": [
    {
     "data": {
      "text/plain": [
       "False"
      ]
     },
     "execution_count": 22,
     "metadata": {},
     "output_type": "execute_result"
    }
   ],
   "source": [
    "dict_errors[1] == np.nan"
   ]
  },
  {
   "cell_type": "code",
   "execution_count": 14,
   "metadata": {},
   "outputs": [
    {
     "data": {
      "text/plain": [
       "float"
      ]
     },
     "execution_count": 14,
     "metadata": {},
     "output_type": "execute_result"
    }
   ],
   "source": [
    "type(dict_errors[1])"
   ]
  },
  {
   "cell_type": "code",
   "execution_count": 15,
   "metadata": {},
   "outputs": [
    {
     "data": {
      "text/plain": [
       "True"
      ]
     },
     "execution_count": 15,
     "metadata": {},
     "output_type": "execute_result"
    }
   ],
   "source": [
    "1 and 2 in ignore_series.values"
   ]
  },
  {
   "cell_type": "code",
   "execution_count": 26,
   "metadata": {},
   "outputs": [
    {
     "data": {
      "text/plain": [
       "[int, int, pandas._libs.tslibs.timestamps.Timestamp]"
      ]
     },
     "execution_count": 26,
     "metadata": {},
     "output_type": "execute_result"
    }
   ],
   "source": [
    "[type(val) for val in ignore_series.values]"
   ]
  },
  {
   "cell_type": "code",
   "execution_count": 53,
   "metadata": {},
   "outputs": [
    {
     "data": {
      "text/plain": [
       "0    False\n",
       "1    False\n",
       "2     True\n",
       "Name: PID, dtype: bool"
      ]
     },
     "execution_count": 53,
     "metadata": {},
     "output_type": "execute_result"
    }
   ],
   "source": [
    "series_ignore == series_coerce"
   ]
  },
  {
   "cell_type": "code",
   "execution_count": 38,
   "metadata": {},
   "outputs": [
    {
     "data": {
      "text/plain": [
       "0    1\n",
       "1    2\n",
       "Name: PID, dtype: object"
      ]
     },
     "execution_count": 38,
     "metadata": {},
     "output_type": "execute_result"
    }
   ],
   "source": [
    "series_ignore[series_coerce.isnull()]"
   ]
  },
  {
   "cell_type": "code",
   "execution_count": 69,
   "metadata": {},
   "outputs": [
    {
     "data": {
      "text/plain": [
       "0   1970-01-01 00:00:00.000000001\n",
       "1   1970-01-01 00:00:00.000000002\n",
       "2   1945-10-05 00:00:00.000000000\n",
       "Name: PID, dtype: datetime64[ns]"
      ]
     },
     "execution_count": 69,
     "metadata": {},
     "output_type": "execute_result"
    }
   ],
   "source": [
    "pd.to_datetime(Base.df['PID'], errors='coerce').fillna(Base.df['a'])"
   ]
  },
  {
   "cell_type": "code",
   "execution_count": 5,
   "metadata": {},
   "outputs": [
    {
     "name": "stdout",
     "output_type": "stream",
     "text": [
      "INFO    : caproj.data.base: Run function set_dtypes\n",
      "INFO    : caproj.data.base: Map and convert columns to specified data types\n",
      "INFO    : caproj.data.base: Run with args: (<caproj.data.base.BaseData object at 0x7fe3e97bfb50>,), and kwargs: {'map_dict': {'a': 'integer', 'b': 'integer', 'PID': 'datetime'}, 'coerce': False}\n",
      "INFO    : BaseData: Column dtypes mapped using direct map_dict input option\n",
      "INFO    : BaseData: column 'a' dtype conversion to 'integer' encountered no errors\n",
      "INFO    : BaseData: column 'b' dtype conversion to 'integer' encountered 2 errors: {1: '5.22', 2: 'l'}\n",
      "INFO    : BaseData: column 'PID' dtype conversion to 'datetime' encountered 1 errors: {0: 1}\n"
     ]
    }
   ],
   "source": [
    "Base.set_dtypes(map_dict=map_dict, coerce=False)"
   ]
  },
  {
   "cell_type": "code",
   "execution_count": 8,
   "metadata": {},
   "outputs": [
    {
     "data": {
      "text/plain": [
       "0                      1\n",
       "1                    NaN\n",
       "2    1945-10-05 00:00:00\n",
       "Name: PID, dtype: object"
      ]
     },
     "execution_count": 8,
     "metadata": {},
     "output_type": "execute_result"
    }
   ],
   "source": [
    "Base.df['PID']"
   ]
  },
  {
   "cell_type": "code",
   "execution_count": 9,
   "metadata": {},
   "outputs": [
    {
     "data": {
      "text/plain": [
       "{'a': {},\n",
       " 'b': {1: '5.22', 2: 'l'},\n",
       " 'PID': {0: 1, 1: nan, 2: Timestamp('1945-10-05 00:00:00')}}"
      ]
     },
     "execution_count": 9,
     "metadata": {},
     "output_type": "execute_result"
    }
   ],
   "source": [
    "Base.dtype_errors"
   ]
  },
  {
   "cell_type": "code",
   "execution_count": 27,
   "metadata": {},
   "outputs": [
    {
     "data": {
      "text/plain": [
       "True"
      ]
     },
     "execution_count": 27,
     "metadata": {},
     "output_type": "execute_result"
    }
   ],
   "source": [
    "np.datetime64 in [type(val) for val in Base.df['PID'].values]"
   ]
  },
  {
   "cell_type": "code",
   "execution_count": 30,
   "metadata": {},
   "outputs": [
    {
     "data": {
      "text/plain": [
       "True"
      ]
     },
     "execution_count": 30,
     "metadata": {},
     "output_type": "execute_result"
    }
   ],
   "source": [
    "hasattr(Base, 'df')"
   ]
  },
  {
   "cell_type": "code",
   "execution_count": 35,
   "metadata": {},
   "outputs": [
    {
     "data": {
      "text/plain": [
       "False"
      ]
     },
     "execution_count": 35,
     "metadata": {},
     "output_type": "execute_result"
    }
   ],
   "source": [
    "'cheese' and 'test' in 'cheese and'"
   ]
  },
  {
   "cell_type": "code",
   "execution_count": 19,
   "metadata": {},
   "outputs": [
    {
     "data": {
      "text/plain": [
       "True"
      ]
     },
     "execution_count": 19,
     "metadata": {},
     "output_type": "execute_result"
    }
   ],
   "source": [
    "type(Base.df['PID'].values[0]) == np.datetime64"
   ]
  },
  {
   "cell_type": "code",
   "execution_count": 7,
   "metadata": {},
   "outputs": [
    {
     "name": "stdout",
     "output_type": "stream",
     "text": [
      "INFO    : caproj.data.base: Run function set_dtypes\n",
      "INFO    : caproj.data.base: Map and convert columns to specified data types\n",
      "INFO    : caproj.data.base: Run with args: (<caproj.data.base.BaseData object at 0x7f6e603f5b50>,), and kwargs: {'json_path': 'nope', 'coerce': False}\n",
      "WARNING : BaseData: JSON filepath nope does not exist. No data loaded.\n",
      "INFO    : BaseData: JSON failed to load map_dict, no column dtypes changed\n"
     ]
    }
   ],
   "source": [
    "Base.set_dtypes(json_path='nope', coerce=False)"
   ]
  },
  {
   "cell_type": "code",
   "execution_count": 69,
   "metadata": {},
   "outputs": [
    {
     "data": {
      "text/html": [
       "<div>\n",
       "<style scoped>\n",
       "    .dataframe tbody tr th:only-of-type {\n",
       "        vertical-align: middle;\n",
       "    }\n",
       "\n",
       "    .dataframe tbody tr th {\n",
       "        vertical-align: top;\n",
       "    }\n",
       "\n",
       "    .dataframe thead th {\n",
       "        text-align: right;\n",
       "    }\n",
       "</style>\n",
       "<table border=\"1\" class=\"dataframe\">\n",
       "  <thead>\n",
       "    <tr style=\"text-align: right;\">\n",
       "      <th></th>\n",
       "      <th>a</th>\n",
       "      <th>b</th>\n",
       "      <th>PID</th>\n",
       "    </tr>\n",
       "  </thead>\n",
       "  <tbody>\n",
       "    <tr>\n",
       "      <th>0</th>\n",
       "      <td>5</td>\n",
       "      <td>1</td>\n",
       "      <td>11 days 22:27:01.312332</td>\n",
       "    </tr>\n",
       "    <tr>\n",
       "      <th>1</th>\n",
       "      <td>3</td>\n",
       "      <td>5.22</td>\n",
       "      <td>0 days 00:00:00.000000</td>\n",
       "    </tr>\n",
       "    <tr>\n",
       "      <th>2</th>\n",
       "      <td>2</td>\n",
       "      <td>l</td>\n",
       "      <td>0 days 00:00:00.000000</td>\n",
       "    </tr>\n",
       "  </tbody>\n",
       "</table>\n",
       "</div>"
      ],
      "text/plain": [
       "   a     b                     PID\n",
       "0  5     1 11 days 22:27:01.312332\n",
       "1  3  5.22  0 days 00:00:00.000000\n",
       "2  2     l  0 days 00:00:00.000000"
      ]
     },
     "execution_count": 69,
     "metadata": {},
     "output_type": "execute_result"
    }
   ],
   "source": [
    "Base.df"
   ]
  },
  {
   "cell_type": "code",
   "execution_count": 71,
   "metadata": {},
   "outputs": [
    {
     "data": {
      "text/plain": [
       "'Cheese wiz'"
      ]
     },
     "execution_count": 71,
     "metadata": {},
     "output_type": "execute_result"
    }
   ],
   "source": [
    "'cheese wiz'.capitalize()"
   ]
  },
  {
   "cell_type": "code",
   "execution_count": 8,
   "metadata": {},
   "outputs": [
    {
     "data": {
      "text/plain": [
       "0"
      ]
     },
     "execution_count": 8,
     "metadata": {},
     "output_type": "execute_result"
    }
   ],
   "source": [
    "len(Base.dtype_errors['a'])"
   ]
  },
  {
   "cell_type": "code",
   "execution_count": 25,
   "metadata": {},
   "outputs": [
    {
     "name": "stdout",
     "output_type": "stream",
     "text": [
      "<class 'pandas.core.frame.DataFrame'>\n",
      "RangeIndex: 3 entries, 0 to 2\n",
      "Data columns (total 3 columns):\n",
      " #   Column  Non-Null Count  Dtype  \n",
      "---  ------  --------------  -----  \n",
      " 0   a       3 non-null      float64\n",
      " 1   b       3 non-null      float64\n",
      " 2   PID     3 non-null      uint8  \n",
      "dtypes: float64(2), uint8(1)\n",
      "memory usage: 179.0 bytes\n"
     ]
    }
   ],
   "source": [
    "Base.df.info()"
   ]
  },
  {
   "cell_type": "code",
   "execution_count": 26,
   "metadata": {},
   "outputs": [
    {
     "data": {
      "text/plain": [
       "0    5.22\n",
       "1    3.00\n",
       "2    2.00\n",
       "Name: a, dtype: float64"
      ]
     },
     "execution_count": 26,
     "metadata": {},
     "output_type": "execute_result"
    }
   ],
   "source": [
    "ser1 = pd.to_numeric(Base.df.a, downcast='unsigned', errors='ignore')\n",
    "ser1"
   ]
  },
  {
   "cell_type": "code",
   "execution_count": 27,
   "metadata": {},
   "outputs": [
    {
     "data": {
      "text/plain": [
       "0    5.22\n",
       "1    3.00\n",
       "2    2.00\n",
       "Name: a, dtype: float64"
      ]
     },
     "execution_count": 27,
     "metadata": {},
     "output_type": "execute_result"
    }
   ],
   "source": [
    "ser2 = pd.to_numeric(Base.df.a, downcast='unsigned', errors='coerce')\n",
    "ser2"
   ]
  },
  {
   "cell_type": "code",
   "execution_count": 28,
   "metadata": {},
   "outputs": [],
   "source": [
    "error_dict = dict()"
   ]
  },
  {
   "cell_type": "code",
   "execution_count": 29,
   "metadata": {},
   "outputs": [],
   "source": [
    "error_dict['cheese'] = ser1[ser1 != ser2].to_dict()"
   ]
  },
  {
   "cell_type": "code",
   "execution_count": 30,
   "metadata": {},
   "outputs": [
    {
     "data": {
      "text/plain": [
       "{'cheese': {}}"
      ]
     },
     "execution_count": 30,
     "metadata": {},
     "output_type": "execute_result"
    }
   ],
   "source": [
    "error_dict"
   ]
  },
  {
   "cell_type": "code",
   "execution_count": 31,
   "metadata": {},
   "outputs": [
    {
     "data": {
      "text/plain": [
       "Index(['a', 'b', 'PID'], dtype='object')"
      ]
     },
     "execution_count": 31,
     "metadata": {},
     "output_type": "execute_result"
    }
   ],
   "source": [
    "Base.df.columns"
   ]
  },
  {
   "cell_type": "code",
   "execution_count": 32,
   "metadata": {},
   "outputs": [
    {
     "data": {
      "text/plain": [
       "['a', 'b', 'pid']"
      ]
     },
     "execution_count": 32,
     "metadata": {},
     "output_type": "execute_result"
    }
   ],
   "source": [
    "[col.lower().replace(' ', '_').replace('-', '_') for col in Base.df.columns]"
   ]
  },
  {
   "cell_type": "code",
   "execution_count": 33,
   "metadata": {
    "scrolled": true
   },
   "outputs": [
    {
     "ename": "SyntaxError",
     "evalue": "invalid syntax (<ipython-input-33-89b9c4dffe2b>, line 1)",
     "output_type": "error",
     "traceback": [
      "\u001b[0;36m  File \u001b[0;32m\"<ipython-input-33-89b9c4dffe2b>\"\u001b[0;36m, line \u001b[0;32m1\u001b[0m\n\u001b[0;31m    Base.\u001b[0m\n\u001b[0m         ^\u001b[0m\n\u001b[0;31mSyntaxError\u001b[0m\u001b[0;31m:\u001b[0m invalid syntax\n"
     ]
    }
   ],
   "source": [
    "Base."
   ]
  },
  {
   "cell_type": "code",
   "execution_count": 34,
   "metadata": {},
   "outputs": [
    {
     "ename": "KeyError",
     "evalue": "'Category'",
     "output_type": "error",
     "traceback": [
      "\u001b[0;31m---------------------------------------------------------------------------\u001b[0m",
      "\u001b[0;31mKeyError\u001b[0m                                  Traceback (most recent call last)",
      "\u001b[0;32m~/.local/share/virtualenvs/nyc-capital-projects-nSoXLpsW/lib/python3.7/site-packages/pandas/core/indexes/base.py\u001b[0m in \u001b[0;36mget_loc\u001b[0;34m(self, key, method, tolerance)\u001b[0m\n\u001b[1;32m   2645\u001b[0m             \u001b[0;32mtry\u001b[0m\u001b[0;34m:\u001b[0m\u001b[0;34m\u001b[0m\u001b[0;34m\u001b[0m\u001b[0m\n\u001b[0;32m-> 2646\u001b[0;31m                 \u001b[0;32mreturn\u001b[0m \u001b[0mself\u001b[0m\u001b[0;34m.\u001b[0m\u001b[0m_engine\u001b[0m\u001b[0;34m.\u001b[0m\u001b[0mget_loc\u001b[0m\u001b[0;34m(\u001b[0m\u001b[0mkey\u001b[0m\u001b[0;34m)\u001b[0m\u001b[0;34m\u001b[0m\u001b[0;34m\u001b[0m\u001b[0m\n\u001b[0m\u001b[1;32m   2647\u001b[0m             \u001b[0;32mexcept\u001b[0m \u001b[0mKeyError\u001b[0m\u001b[0;34m:\u001b[0m\u001b[0;34m\u001b[0m\u001b[0;34m\u001b[0m\u001b[0m\n",
      "\u001b[0;32mpandas/_libs/index.pyx\u001b[0m in \u001b[0;36mpandas._libs.index.IndexEngine.get_loc\u001b[0;34m()\u001b[0m\n",
      "\u001b[0;32mpandas/_libs/index.pyx\u001b[0m in \u001b[0;36mpandas._libs.index.IndexEngine.get_loc\u001b[0;34m()\u001b[0m\n",
      "\u001b[0;32mpandas/_libs/hashtable_class_helper.pxi\u001b[0m in \u001b[0;36mpandas._libs.hashtable.PyObjectHashTable.get_item\u001b[0;34m()\u001b[0m\n",
      "\u001b[0;32mpandas/_libs/hashtable_class_helper.pxi\u001b[0m in \u001b[0;36mpandas._libs.hashtable.PyObjectHashTable.get_item\u001b[0;34m()\u001b[0m\n",
      "\u001b[0;31mKeyError\u001b[0m: 'Category'",
      "\nDuring handling of the above exception, another exception occurred:\n",
      "\u001b[0;31mKeyError\u001b[0m                                  Traceback (most recent call last)",
      "\u001b[0;32m<ipython-input-34-7db368d10d96>\u001b[0m in \u001b[0;36m<module>\u001b[0;34m\u001b[0m\n\u001b[0;32m----> 1\u001b[0;31m \u001b[0mcat_values\u001b[0m \u001b[0;34m=\u001b[0m \u001b[0mBase\u001b[0m\u001b[0;34m.\u001b[0m\u001b[0mdf\u001b[0m\u001b[0;34m[\u001b[0m\u001b[0;34m'Category'\u001b[0m\u001b[0;34m]\u001b[0m\u001b[0;34m.\u001b[0m\u001b[0mvalue_counts\u001b[0m\u001b[0;34m(\u001b[0m\u001b[0;34m)\u001b[0m\u001b[0;34m\u001b[0m\u001b[0;34m\u001b[0m\u001b[0m\n\u001b[0m\u001b[1;32m      2\u001b[0m \u001b[0;34m\u001b[0m\u001b[0m\n\u001b[1;32m      3\u001b[0m \u001b[0mplot_barplot\u001b[0m\u001b[0;34m(\u001b[0m\u001b[0mcat_values\u001b[0m\u001b[0;34m,\u001b[0m \u001b[0;34m'test'\u001b[0m\u001b[0;34m)\u001b[0m\u001b[0;34m\u001b[0m\u001b[0;34m\u001b[0m\u001b[0m\n",
      "\u001b[0;32m~/.local/share/virtualenvs/nyc-capital-projects-nSoXLpsW/lib/python3.7/site-packages/pandas/core/frame.py\u001b[0m in \u001b[0;36m__getitem__\u001b[0;34m(self, key)\u001b[0m\n\u001b[1;32m   2798\u001b[0m             \u001b[0;32mif\u001b[0m \u001b[0mself\u001b[0m\u001b[0;34m.\u001b[0m\u001b[0mcolumns\u001b[0m\u001b[0;34m.\u001b[0m\u001b[0mnlevels\u001b[0m \u001b[0;34m>\u001b[0m \u001b[0;36m1\u001b[0m\u001b[0;34m:\u001b[0m\u001b[0;34m\u001b[0m\u001b[0;34m\u001b[0m\u001b[0m\n\u001b[1;32m   2799\u001b[0m                 \u001b[0;32mreturn\u001b[0m \u001b[0mself\u001b[0m\u001b[0;34m.\u001b[0m\u001b[0m_getitem_multilevel\u001b[0m\u001b[0;34m(\u001b[0m\u001b[0mkey\u001b[0m\u001b[0;34m)\u001b[0m\u001b[0;34m\u001b[0m\u001b[0;34m\u001b[0m\u001b[0m\n\u001b[0;32m-> 2800\u001b[0;31m             \u001b[0mindexer\u001b[0m \u001b[0;34m=\u001b[0m \u001b[0mself\u001b[0m\u001b[0;34m.\u001b[0m\u001b[0mcolumns\u001b[0m\u001b[0;34m.\u001b[0m\u001b[0mget_loc\u001b[0m\u001b[0;34m(\u001b[0m\u001b[0mkey\u001b[0m\u001b[0;34m)\u001b[0m\u001b[0;34m\u001b[0m\u001b[0;34m\u001b[0m\u001b[0m\n\u001b[0m\u001b[1;32m   2801\u001b[0m             \u001b[0;32mif\u001b[0m \u001b[0mis_integer\u001b[0m\u001b[0;34m(\u001b[0m\u001b[0mindexer\u001b[0m\u001b[0;34m)\u001b[0m\u001b[0;34m:\u001b[0m\u001b[0;34m\u001b[0m\u001b[0;34m\u001b[0m\u001b[0m\n\u001b[1;32m   2802\u001b[0m                 \u001b[0mindexer\u001b[0m \u001b[0;34m=\u001b[0m \u001b[0;34m[\u001b[0m\u001b[0mindexer\u001b[0m\u001b[0;34m]\u001b[0m\u001b[0;34m\u001b[0m\u001b[0;34m\u001b[0m\u001b[0m\n",
      "\u001b[0;32m~/.local/share/virtualenvs/nyc-capital-projects-nSoXLpsW/lib/python3.7/site-packages/pandas/core/indexes/base.py\u001b[0m in \u001b[0;36mget_loc\u001b[0;34m(self, key, method, tolerance)\u001b[0m\n\u001b[1;32m   2646\u001b[0m                 \u001b[0;32mreturn\u001b[0m \u001b[0mself\u001b[0m\u001b[0;34m.\u001b[0m\u001b[0m_engine\u001b[0m\u001b[0;34m.\u001b[0m\u001b[0mget_loc\u001b[0m\u001b[0;34m(\u001b[0m\u001b[0mkey\u001b[0m\u001b[0;34m)\u001b[0m\u001b[0;34m\u001b[0m\u001b[0;34m\u001b[0m\u001b[0m\n\u001b[1;32m   2647\u001b[0m             \u001b[0;32mexcept\u001b[0m \u001b[0mKeyError\u001b[0m\u001b[0;34m:\u001b[0m\u001b[0;34m\u001b[0m\u001b[0;34m\u001b[0m\u001b[0m\n\u001b[0;32m-> 2648\u001b[0;31m                 \u001b[0;32mreturn\u001b[0m \u001b[0mself\u001b[0m\u001b[0;34m.\u001b[0m\u001b[0m_engine\u001b[0m\u001b[0;34m.\u001b[0m\u001b[0mget_loc\u001b[0m\u001b[0;34m(\u001b[0m\u001b[0mself\u001b[0m\u001b[0;34m.\u001b[0m\u001b[0m_maybe_cast_indexer\u001b[0m\u001b[0;34m(\u001b[0m\u001b[0mkey\u001b[0m\u001b[0;34m)\u001b[0m\u001b[0;34m)\u001b[0m\u001b[0;34m\u001b[0m\u001b[0;34m\u001b[0m\u001b[0m\n\u001b[0m\u001b[1;32m   2649\u001b[0m         \u001b[0mindexer\u001b[0m \u001b[0;34m=\u001b[0m \u001b[0mself\u001b[0m\u001b[0;34m.\u001b[0m\u001b[0mget_indexer\u001b[0m\u001b[0;34m(\u001b[0m\u001b[0;34m[\u001b[0m\u001b[0mkey\u001b[0m\u001b[0;34m]\u001b[0m\u001b[0;34m,\u001b[0m \u001b[0mmethod\u001b[0m\u001b[0;34m=\u001b[0m\u001b[0mmethod\u001b[0m\u001b[0;34m,\u001b[0m \u001b[0mtolerance\u001b[0m\u001b[0;34m=\u001b[0m\u001b[0mtolerance\u001b[0m\u001b[0;34m)\u001b[0m\u001b[0;34m\u001b[0m\u001b[0;34m\u001b[0m\u001b[0m\n\u001b[1;32m   2650\u001b[0m         \u001b[0;32mif\u001b[0m \u001b[0mindexer\u001b[0m\u001b[0;34m.\u001b[0m\u001b[0mndim\u001b[0m \u001b[0;34m>\u001b[0m \u001b[0;36m1\u001b[0m \u001b[0;32mor\u001b[0m \u001b[0mindexer\u001b[0m\u001b[0;34m.\u001b[0m\u001b[0msize\u001b[0m \u001b[0;34m>\u001b[0m \u001b[0;36m1\u001b[0m\u001b[0;34m:\u001b[0m\u001b[0;34m\u001b[0m\u001b[0;34m\u001b[0m\u001b[0m\n",
      "\u001b[0;32mpandas/_libs/index.pyx\u001b[0m in \u001b[0;36mpandas._libs.index.IndexEngine.get_loc\u001b[0;34m()\u001b[0m\n",
      "\u001b[0;32mpandas/_libs/index.pyx\u001b[0m in \u001b[0;36mpandas._libs.index.IndexEngine.get_loc\u001b[0;34m()\u001b[0m\n",
      "\u001b[0;32mpandas/_libs/hashtable_class_helper.pxi\u001b[0m in \u001b[0;36mpandas._libs.hashtable.PyObjectHashTable.get_item\u001b[0;34m()\u001b[0m\n",
      "\u001b[0;32mpandas/_libs/hashtable_class_helper.pxi\u001b[0m in \u001b[0;36mpandas._libs.hashtable.PyObjectHashTable.get_item\u001b[0;34m()\u001b[0m\n",
      "\u001b[0;31mKeyError\u001b[0m: 'Category'"
     ]
    }
   ],
   "source": [
    "cat_values = Base.df['Category'].value_counts()\n",
    "\n",
    "plot_barplot(cat_values, 'test')"
   ]
  },
  {
   "cell_type": "code",
   "execution_count": 11,
   "metadata": {},
   "outputs": [
    {
     "data": {
      "text/plain": [
       "[<matplotlib.lines.Line2D at 0x7f00249b96d0>]"
      ]
     },
     "execution_count": 11,
     "metadata": {},
     "output_type": "execute_result"
    },
    {
     "data": {
      "image/png": "[encoded data removed]",
      "text/plain": [
       "<Figure size 432x288 with 1 Axes>"
      ]
     },
     "metadata": {
      "needs_background": "light"
     },
     "output_type": "display_data"
    }
   ],
   "source": [
    "fig = plt.figure()\n",
    "plt.plot([0,1,2], [2,6,12])"
   ]
  },
  {
   "cell_type": "code",
   "execution_count": 45,
   "metadata": {},
   "outputs": [
    {
     "data": {
      "text/plain": [
       "06/01/2016 12:00:00 AM516    1\n",
       "05/01/2019 12:00:00 AM96     1\n",
       "05/01/2019 12:00:00 AM561    1\n",
       "01/01/2016 12:00:00 AM18     1\n",
       "06/01/2016 12:00:00 AM360    1\n",
       "                            ..\n",
       "09/01/2019 12:00:00 AM91     1\n",
       "04/01/2017 12:00:00 AM475    1\n",
       "03/01/2018 12:00:00 AM617    1\n",
       "09/01/2017 12:00:00 AM664    1\n",
       "09/01/2019 12:00:00 AM867    1\n",
       "Length: 2259, dtype: int64"
      ]
     },
     "execution_count": 45,
     "metadata": {},
     "output_type": "execute_result"
    }
   ],
   "source": [
    "(data['Date Reported As Of'].astype(str) + data['PID'].astype(str)).value_counts()"
   ]
  },
  {
   "cell_type": "code",
   "execution_count": 46,
   "metadata": {},
   "outputs": [
    {
     "name": "stdout",
     "output_type": "stream",
     "text": [
      "<class 'pandas.core.frame.DataFrame'>\n",
      "RangeIndex: 2259 entries, 0 to 2258\n",
      "Data columns (total 16 columns):\n",
      " #   Column                   Non-Null Count  Dtype  \n",
      "---  ------                   --------------  -----  \n",
      " 0   Date Reported As Of      2259 non-null   object \n",
      " 1   PID                      2259 non-null   int64  \n",
      " 2   Project Name             2259 non-null   object \n",
      " 3   Description              2150 non-null   object \n",
      " 4   Category                 2259 non-null   object \n",
      " 5   Borough                  1634 non-null   object \n",
      " 6   Managing Agency          2259 non-null   object \n",
      " 7   Client Agency            1644 non-null   object \n",
      " 8   Current Phase            2154 non-null   object \n",
      " 9   Design Start             2095 non-null   object \n",
      " 10  Budget Forecast          2153 non-null   float64\n",
      " 11  Latest Budget Changes    1881 non-null   float64\n",
      " 12  Total Budget Changes     2194 non-null   float64\n",
      " 13  Forecast Completion      2137 non-null   object \n",
      " 14  Latest Schedule Changes  1866 non-null   float64\n",
      " 15  Total Schedule Changes   2186 non-null   float64\n",
      "dtypes: float64(5), int64(1), object(10)\n",
      "memory usage: 282.5+ KB\n"
     ]
    }
   ],
   "source": [
    "data.info()"
   ]
  },
  {
   "cell_type": "code",
   "execution_count": 47,
   "metadata": {},
   "outputs": [],
   "source": [
    "def ensure_datetime_and_sort(df):\n",
    "    \"\"\"Ensures datetime columns are formatted correctly and changes are sorted\n",
    "    \n",
    "    :param df: pd.DataFrame of the cleaned capital projects change records data\n",
    "    \n",
    "    :return: Original pd.DataFrame with datetime columns formatted and records\n",
    "             sorted\n",
    "    \"\"\"\n",
    "    datetime_cols = [\n",
    "        'Date Reported As Of',\n",
    "        'Design Start',\n",
    "        'Forecast Completion'\n",
    "    ]\n",
    "\n",
    "    for col in datetime_cols:\n",
    "        df[col] = pd.to_datetime(df[col])\n",
    "    \n",
    "    return df"
   ]
  },
  {
   "cell_type": "code",
   "execution_count": 48,
   "metadata": {},
   "outputs": [
    {
     "name": "stdout",
     "output_type": "stream",
     "text": [
      "<class 'pandas.core.frame.DataFrame'>\n",
      "RangeIndex: 2259 entries, 0 to 2258\n",
      "Data columns (total 16 columns):\n",
      " #   Column                   Non-Null Count  Dtype  \n",
      "---  ------                   --------------  -----  \n",
      " 0   Date Reported As Of      2259 non-null   object \n",
      " 1   PID                      2259 non-null   int64  \n",
      " 2   Project Name             2259 non-null   object \n",
      " 3   Description              2150 non-null   object \n",
      " 4   Category                 2259 non-null   object \n",
      " 5   Borough                  1634 non-null   object \n",
      " 6   Managing Agency          2259 non-null   object \n",
      " 7   Client Agency            1644 non-null   object \n",
      " 8   Current Phase            2154 non-null   object \n",
      " 9   Design Start             2095 non-null   object \n",
      " 10  Budget Forecast          2153 non-null   float64\n",
      " 11  Latest Budget Changes    1881 non-null   float64\n",
      " 12  Total Budget Changes     2194 non-null   float64\n",
      " 13  Forecast Completion      2137 non-null   object \n",
      " 14  Latest Schedule Changes  1866 non-null   float64\n",
      " 15  Total Schedule Changes   2186 non-null   float64\n",
      "dtypes: float64(5), int64(1), object(10)\n",
      "memory usage: 282.5+ KB\n"
     ]
    }
   ],
   "source": [
    "data.info()"
   ]
  },
  {
   "cell_type": "code",
   "execution_count": 49,
   "metadata": {},
   "outputs": [],
   "source": [
    "data = ensure_datetime_and_sort(data)"
   ]
  },
  {
   "cell_type": "code",
   "execution_count": 50,
   "metadata": {},
   "outputs": [],
   "source": [
    "old_cols = list(data.columns)\n",
    "new_cols = [col.replace(' ', '_') for col in old_cols]\n",
    "data.columns = new_cols"
   ]
  },
  {
   "cell_type": "code",
   "execution_count": 36,
   "metadata": {},
   "outputs": [
    {
     "name": "stdout",
     "output_type": "stream",
     "text": [
      "<class 'pandas.core.frame.DataFrame'>\n",
      "RangeIndex: 2259 entries, 0 to 2258\n",
      "Data columns (total 16 columns):\n",
      " #   Column                   Non-Null Count  Dtype         \n",
      "---  ------                   --------------  -----         \n",
      " 0   Date_Reported_As_Of      2259 non-null   datetime64[ns]\n",
      " 1   PID                      2259 non-null   int64         \n",
      " 2   Project_Name             2259 non-null   object        \n",
      " 3   Description              2150 non-null   object        \n",
      " 4   Category                 2259 non-null   object        \n",
      " 5   Borough                  1634 non-null   object        \n",
      " 6   Managing_Agency          2259 non-null   object        \n",
      " 7   Client_Agency            1644 non-null   object        \n",
      " 8   Current_Phase            2154 non-null   object        \n",
      " 9   Design_Start             2095 non-null   datetime64[ns]\n",
      " 10  Budget_Forecast          2153 non-null   float64       \n",
      " 11  Latest_Budget_Changes    1881 non-null   float64       \n",
      " 12  Total_Budget_Changes     2194 non-null   float64       \n",
      " 13  Forecast_Completion      2137 non-null   datetime64[ns]\n",
      " 14  Latest_Schedule_Changes  1866 non-null   float64       \n",
      " 15  Total_Schedule_Changes   2186 non-null   float64       \n",
      "dtypes: datetime64[ns](3), float64(5), int64(1), object(7)\n",
      "memory usage: 282.5+ KB\n"
     ]
    }
   ],
   "source": [
    "data.info()"
   ]
  },
  {
   "cell_type": "code",
   "execution_count": null,
   "metadata": {},
   "outputs": [],
   "source": [
    "# Use 'underscores' in column headers instead of spaces\n",
    "old_cols = list(data.columns)\n",
    "new_cols = [s.replace(' ', '_') for s in old_cols]\n",
    "rename_dict = {k:v for k,v in zip(old_cols, new_cols)}\n",
    "data.rename(columns=rename_dict, inplace=True)"
   ]
  }
 ],
 "metadata": {
  "kernelspec": {
   "display_name": "Python 3",
   "language": "python",
   "name": "python3"
  },
  "language_info": {
   "codemirror_mode": {
    "name": "ipython",
    "version": 3
   },
   "file_extension": ".py",
   "mimetype": "text/x-python",
   "name": "python",
   "nbconvert_exporter": "python",
   "pygments_lexer": "ipython3",
   "version": "3.7.5"
  }
 },
 "nbformat": 4,
 "nbformat_minor": 4
}
